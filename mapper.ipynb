{
 "cells": [
  {
   "cell_type": "markdown",
   "id": "3eb0a1ab",
   "metadata": {},
   "source": [
    "# Mapper Algorithm applied to Sentence Embeddings "
   ]
  },
  {
   "cell_type": "code",
   "execution_count": null,
   "id": "89977251",
   "metadata": {
    "vscode": {
     "languageId": "plaintext"
    }
   },
   "outputs": [],
   "source": [
    "# load data \n"
   ]
  }
 ],
 "metadata": {
  "language_info": {
   "name": "python"
  }
 },
 "nbformat": 4,
 "nbformat_minor": 5
}
